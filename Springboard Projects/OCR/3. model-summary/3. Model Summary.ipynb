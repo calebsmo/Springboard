{
 "cells": [
  {
   "cell_type": "code",
   "execution_count": 1,
   "id": "d3b5b851",
   "metadata": {},
   "outputs": [],
   "source": [
    "%%capture\n",
    "%pip install PyMuPDF\n",
    "%pip install pytesseract\n",
    "%pip install pyocr\n",
    "%pip install torch torchvision torchaudio\n",
    "%pip install easyocr\n",
    "\n",
    "from PIL import Image\n",
    "import time # << Helper for tracking how long processes take\n",
    "import cv2\n",
    "import numpy as np\n",
    "import matplotlib.pyplot as plt\n",
    "from matplotlib.pyplot import figure\n",
    "\n",
    "\n",
    "# Model 1: PyTesseract\n",
    "import pytesseract\n",
    "\n",
    "# Model 2: PyOCR (Tesseract)\n",
    "import pyocr\n",
    "import pyocr.builders  \n",
    "tools = pyocr.get_available_tools()\n",
    "tool = tools[0]\n",
    "\n",
    "# Model 3: EasyOCR\n",
    "import easyocr\n",
    "reader = easyocr.Reader(['en'], gpu = False)"
   ]
  },
  {
   "cell_type": "markdown",
   "id": "e35e82cb",
   "metadata": {},
   "source": [
    "### Model Functions to return Text"
   ]
  },
  {
   "cell_type": "code",
   "execution_count": 2,
   "id": "1dd3a56b",
   "metadata": {},
   "outputs": [],
   "source": [
    "def text_from_pytesseract(img):\n",
    "    start = time.time()\n",
    "    \n",
    "    text = pytesseract.image_to_string(img)\n",
    "    \n",
    "    text = text.replace('\\n', ' ').strip()\n",
    "    \n",
    "    return text, time.time() - start\n",
    "\n",
    "def text_from_pyocr(img):  \n",
    "    start = time.time()\n",
    "    \n",
    "    # Convert to PIL\n",
    "    try:\n",
    "        img = cv2.cvtColor(img, cv2.COLOR_BGR2RGB)\n",
    "    except:\n",
    "        pass\n",
    "    im_pil = Image.fromarray(img)\n",
    "    text = tool.image_to_string(im_pil, lang='eng', builder=pyocr.builders.TextBuilder())\n",
    "    text = text.replace('\\n', ' ').strip()\n",
    "    return text, time.time() - start\n",
    "\n",
    "def number_from_pyocr(img):\n",
    "    start = time.time()\n",
    "        \n",
    "    #Convert to PIL\n",
    "    try:\n",
    "        img = cv2.cvtColor(img, cv2.COLOR_BGR2RGB)\n",
    "    except:\n",
    "        pass\n",
    "    im_pil = Image.fromarray(img)\n",
    "    text = tool.image_to_string(im_pil, lang='eng', builder=pyocr.builders.DigitBuilder())\n",
    "\n",
    "    return text, time.time() - start\n",
    "\n",
    "def text_from_easyocr(img):\n",
    "    start = time.time()\n",
    "    \n",
    "    try:\n",
    "        t = reader.readtext(img, paragraph=\"False\")\n",
    "        text = t[0][1]\n",
    "    except Exception as e:\n",
    "        text = ''\n",
    "        \n",
    "    return text, time.time() - start"
   ]
  },
  {
   "cell_type": "markdown",
   "id": "c2b2f31d",
   "metadata": {},
   "source": [
    "## Simple Comparison of Single Cell Text/Number Detection"
   ]
  },
  {
   "cell_type": "code",
   "execution_count": 9,
   "id": "1a6fc4da",
   "metadata": {},
   "outputs": [],
   "source": [
    "import os\n",
    "\n",
    "def process(model, file, answer):\n",
    "    \n",
    "    img = cv2.imread(file)\n",
    "\n",
    "    if model == 'pytesseract':\n",
    "        text, speed = text_from_pytesseract(img)\n",
    "    elif model == 'pyocr':\n",
    "        text, speed = text_from_pyocr(img)\n",
    "    elif model == 'easyocr':\n",
    "        text, speed = text_from_easyocr(img)\n",
    "    else:\n",
    "        return\n",
    "        \n",
    "    accuracy = text == answer\n",
    "    return text, speed, accuracy\n",
    "\n",
    "\n",
    "def get_stats(model):\n",
    "\n",
    "    answers = []\n",
    "    results = []\n",
    "    speeds = []\n",
    "    accuracy = []\n",
    "\n",
    "    directory = os.fsencode('test-images/')\n",
    "\n",
    "    for file in os.listdir(directory):\n",
    "\n",
    "        filename = os.fsdecode(file)\n",
    "\n",
    "        if '=' in filename:\n",
    "\n",
    "            answer = filename.split(\"=\")[1].replace('.png', '')\n",
    "        \n",
    "            text, speed, acc = process(model, f'test-images/{filename}', answer)\n",
    "\n",
    "            answers.append(answer)\n",
    "            results.append(text)\n",
    "            speeds.append(speed)\n",
    "            accuracy.append(acc)\n",
    "            \n",
    "    return answers, results, speeds, accuracy  \n",
    "\n",
    "\n",
    "def get_report(model):\n",
    "    ans, res, sp, acc = get_stats(model)\n",
    "\n",
    "    print(\"RESULTS: \", model)\n",
    "    print(\"--------------------------------------------------------------------------------------------------\")\n",
    "    print('O-Answers: ', ans)\n",
    "    print(\"--------------------------------------------------------------------------------------------------\")\n",
    "    print('R-Answers:', res)\n",
    "    print(\"--------------------------------------------------------------------------------------------------\")\n",
    "    print('Avg Speed:', np.mean(sp))\n",
    "    print(\"--------------------------------------------------------------------------------------------------\")\n",
    "    print('Accuracy:', np.mean(acc) * 100)"
   ]
  },
  {
   "cell_type": "markdown",
   "id": "85d911ac",
   "metadata": {},
   "source": [
    "## Results Breakdown\n",
    "\n",
    "Below I have run a test on about 30 images captured during my preprocessing that I wanted to use and show now.\n",
    "\n",
    "#### PyTesseract\n",
    "\n",
    "The model is fast, but has some trouble with inference. Also, I had to add a line-break and empty space removal for the text to be cleaned."
   ]
  },
  {
   "cell_type": "code",
   "execution_count": 10,
   "id": "c321c26d",
   "metadata": {
    "scrolled": false
   },
   "outputs": [
    {
     "name": "stdout",
     "output_type": "stream",
     "text": [
      "RESULTS:  pytesseract\n",
      "--------------------------------------------------------------------------------------------------\n",
      "O-Answers:  ['NGB 23B', '17', '02', '30', '19', 'NGB', 'NGB', '2016', '05', 'AIT', 'ARMY Active Duty', '2011', '26', '01', 'DEP', 'PRESENT', '05', '26', '2011', '17', '18', '64', 'USAR Active', '2012', '13', '2012', '05', '28', '2011', 'DD4']\n",
      "--------------------------------------------------------------------------------------------------\n",
      "R-Answers: ['NGB 23B', '', '', '', '', 'NGB', 'NGB', '2016', '', '', 'ARMY Active Duty', '2011', '', '', 'DEP', 'PRESENT', '', '', '2011', '', '', '', 'USAR Active', '2012', '', '2012', '', '', '2011', 'DD4']\n",
      "--------------------------------------------------------------------------------------------------\n",
      "Avg Speed: 0.06674017906188964\n",
      "--------------------------------------------------------------------------------------------------\n",
      "Accuracy: 46.666666666666664\n"
     ]
    }
   ],
   "source": [
    "get_report('pytesseract')"
   ]
  },
  {
   "cell_type": "markdown",
   "id": "88c3158a",
   "metadata": {},
   "source": [
    "#### PyOCR\n",
    "\n",
    "The model is very fast, but is also very accurate. I will continue to test it on full documents later, but I am very happy with its performance. After pre-processing, I had to add a line-break and empty space removal for the text to be cleaned after inference and it's working like a champ!"
   ]
  },
  {
   "cell_type": "code",
   "execution_count": 11,
   "id": "fb15f474",
   "metadata": {},
   "outputs": [
    {
     "name": "stdout",
     "output_type": "stream",
     "text": [
      "RESULTS:  pyocr\n",
      "--------------------------------------------------------------------------------------------------\n",
      "O-Answers:  ['NGB 23B', '17', '02', '30', '19', 'NGB', 'NGB', '2016', '05', 'AIT', 'ARMY Active Duty', '2011', '26', '01', 'DEP', 'PRESENT', '05', '26', '2011', '17', '18', '64', 'USAR Active', '2012', '13', '2012', '05', '28', '2011', 'DD4']\n",
      "--------------------------------------------------------------------------------------------------\n",
      "R-Answers: ['NGB 23B', '17', '02', '30', '19', 'NGB', 'NGB', '2016', '05', 'AIT', 'ARMY Active Duty', '2011', '26', '01', 'DEP', 'PRESENT', '05', '26', '2011', '17', '18', '64', 'USAR Active', '2012', '13', '2012', '05', '28', '2011', 'DD4']\n",
      "--------------------------------------------------------------------------------------------------\n",
      "Avg Speed: 0.06562470595041911\n",
      "--------------------------------------------------------------------------------------------------\n",
      "Accuracy: 100.0\n"
     ]
    }
   ],
   "source": [
    "get_report('pyocr')"
   ]
  },
  {
   "cell_type": "markdown",
   "id": "8492e4d3",
   "metadata": {},
   "source": [
    "#### EasyOCR\n",
    "\n",
    "This model is just amazing for what I need. It has reliably achieved nearly 100% in all previous testing, even with minimal preprocessing. That's largely thanks to its own organic image processing it does via CRAFT.\n",
    "\n",
    "The model is slow, but not so slow that I will neglect using it. Additionally, the team has mentioned increasing its speed in versions to come."
   ]
  },
  {
   "cell_type": "code",
   "execution_count": 12,
   "id": "fa7ed3bb",
   "metadata": {},
   "outputs": [
    {
     "name": "stderr",
     "output_type": "stream",
     "text": [
      "[W NNPACK.cpp:51] Could not initialize NNPACK! Reason: Unsupported hardware.\n"
     ]
    },
    {
     "name": "stdout",
     "output_type": "stream",
     "text": [
      "RESULTS:  easyocr\n",
      "--------------------------------------------------------------------------------------------------\n",
      "O-Answers:  ['NGB 23B', '17', '02', '30', '19', 'NGB', 'NGB', '2016', '05', 'AIT', 'ARMY Active Duty', '2011', '26', '01', 'DEP', 'PRESENT', '05', '26', '2011', '17', '18', '64', 'USAR Active', '2012', '13', '2012', '05', '28', '2011', 'DD4']\n",
      "--------------------------------------------------------------------------------------------------\n",
      "R-Answers: ['NGB 23B', '17', '02', '30', '19', 'NGB', 'NGB', '2016', '05', 'AIT', 'ARMY Active Duty', '2011', '26', '01', 'DEP', 'PRESENT', '05', '26', '2011', '17', '18', '64', 'USAR Active', '2012', '13', '2012', '05', '28', '2011', 'DD4']\n",
      "--------------------------------------------------------------------------------------------------\n",
      "Avg Speed: 0.4933610995610555\n",
      "--------------------------------------------------------------------------------------------------\n",
      "Accuracy: 100.0\n"
     ]
    }
   ],
   "source": [
    "get_report('easyocr')"
   ]
  },
  {
   "cell_type": "code",
   "execution_count": null,
   "id": "d1a55c1a",
   "metadata": {},
   "outputs": [],
   "source": []
  }
 ],
 "metadata": {
  "kernelspec": {
   "display_name": "Python 3 (ipykernel)",
   "language": "python",
   "name": "python3"
  },
  "language_info": {
   "codemirror_mode": {
    "name": "ipython",
    "version": 3
   },
   "file_extension": ".py",
   "mimetype": "text/x-python",
   "name": "python",
   "nbconvert_exporter": "python",
   "pygments_lexer": "ipython3",
   "version": "3.9.7"
  }
 },
 "nbformat": 4,
 "nbformat_minor": 5
}
